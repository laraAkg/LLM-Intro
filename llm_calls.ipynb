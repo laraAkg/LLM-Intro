{
 "cells": [
  {
   "cell_type": "markdown",
   "metadata": {},
   "source": [
    "## Connect and compare LLMs\n",
    "\n",
    "- Connect to the grok API and choose a model\n",
    "- Connect to the Gemini API and choose a model\n",
    "- Connect to the OpenAI API and choose 4o-mini\n",
    "\n",
    "### Create a prompt and inject a little text snippet of your liking\n",
    "- The LLM should use the injected information to answer a question.\n",
    "\n",
    "### Compare the outputs\n",
    "- Use the same method for every model.\n",
    "- Do you see differences?\n",
    "\n",
    "**Tipp:** for prompt injection you can either use string concatenation or the python String formatter. "
   ]
  },
  {
   "cell_type": "code",
   "execution_count": 5,
   "metadata": {},
   "outputs": [
    {
     "name": "stderr",
     "output_type": "stream",
     "text": [
      "/usr/local/python/3.12.1/lib/python3.12/site-packages/tqdm/auto.py:21: TqdmWarning: IProgress not found. Please update jupyter and ipywidgets. See https://ipywidgets.readthedocs.io/en/stable/user_install.html\n",
      "  from .autonotebook import tqdm as notebook_tqdm\n"
     ]
    }
   ],
   "source": [
    "#pip install -r requirements.txt\n",
    "import google.generativeai as genai\n",
    "from openai import OpenAI\n",
    "from groq import Groq\n",
    "import os\n",
    "from dotenv import load_dotenv"
   ]
  },
  {
   "cell_type": "code",
   "execution_count": 7,
   "metadata": {},
   "outputs": [],
   "source": [
    "load_dotenv()\n",
    "# Access the API key using the variable name defined in the .env file\n",
    "google_api_key = os.getenv(\"GOOGLE_API_KEY\")\n",
    "openai_api_key = os.getenv(\"OPENAI_API_KEY\")\n",
    "groq_api_key = os.getenv(\"GROQ_API_KEY\")"
   ]
  },
  {
   "cell_type": "markdown",
   "metadata": {},
   "source": [
    "## Google\n",
    "\n",
    "https://ai.google.dev/gemini-api/docs/quickstart?hl=de&lang=python\n",
    "examples: https://colab.research.google.com/github/google-gemini/cookbook/blob/main/quickstarts/System_instructions.ipynb?hl=de#scrollTo=WxiIfsbA0WdH"
   ]
  },
  {
   "cell_type": "code",
   "execution_count": null,
   "metadata": {},
   "outputs": [
    {
     "name": "stdout",
     "output_type": "stream",
     "text": [
      "Good morning! I'm doing well, thank you for asking. How are you today?\n"
     ]
    }
   ],
   "source": [
    "#Der Code sendet eine Nachricht (\"Good morning! How are you?\") mit einer vordefinierten Systemrolle (\"You are a user. Your name is Lara\") \n",
    "# an das Google Gemini-Modell und gibt dessen Antwort aus.\n",
    "\n",
    "from google import genai\n",
    "from google.genai import types\n",
    "\n",
    "client = genai.Client(api_key=google_api_key)\n",
    "MODEL_ID = \"gemini-2.5-flash-preview-04-17\" # @param [\"gemini-2.0-flash-lite\",\"gemini-2.0-flash\",\"gemini-2.5-flash-preview-04-17\",\"gemini-2.5-pro-exp-03-25\"] {\"allow-input\":true, isTemplate: true}\n",
    "system_prompt = \"You are a user. Your name is Lara\"\n",
    "prompt = \"Good morning! How are you?\"\n",
    "\n",
    "response = client.models.generate_content(\n",
    "    model=MODEL_ID,\n",
    "    contents=prompt,\n",
    "    config=types.GenerateContentConfig(\n",
    "        system_instruction=system_prompt\n",
    "    )\n",
    ")\n",
    "\n",
    "print(response.text)"
   ]
  },
  {
   "cell_type": "markdown",
   "metadata": {},
   "source": [
    "# Openai"
   ]
  },
  {
   "cell_type": "code",
   "execution_count": 7,
   "metadata": {},
   "outputs": [
    {
     "name": "stdout",
     "output_type": "stream",
     "text": [
      "Quantenphysik ist ein Teil der Physik, der Dinge auf sehr kleine und winzige Ebene untersucht, wie zum Beispiel Atome und subatomare Teilchen. In der Quantenphysik gibt es viele seltsame und faszinierende Konzepte, wie zum Beispiel Quantensprünge, Superposition und Verschränkung.\n",
      "\n",
      "Ein wichtiger Teil der Quantenphysik ist die Quantenmechanik, die beschreibt, wie sich diese winzigen Teilchen verhalten. Zum Beispiel können Teilchen an mehreren Orten gleichzeitig sein, bevor sie gemessen werden. Dies nennt man Superposition. Außerdem können sich Teilchen miteinander verbinden und ihre Zustände können voneinander abhängig sein, selbst wenn sie weit voneinander entfernt sind. Dies nennt man Verschränkung.\n",
      "\n",
      "Quantenphysik ist nicht immer einfach zu verstehen, aber sie hat großen Einfluss auf viele Bereiche der Wissenschaft, wie zum Beispiel die Entwicklung von Computern und Technologien. Es ist ein faszinierendes und aufregendes Gebiet, das uns hilft, die Welt um uns herum besser zu verstehen.\n"
     ]
    }
   ],
   "source": [
    "# More information under: https://platform.openai.com/docs/quickstart?api-mode=chat\n",
    "\n",
    "# 👉 Initialisiere den OpenAI-Client mit dem API-Key aus der .env-Datei\n",
    "client = OpenAI(api_key=openai_api_key)\n",
    "\n",
    "# 📤 Sende eine Chat-Anfrage an das Modell \"gpt-3.5-turbo\"\n",
    "# Die Anfrage besteht aus einer einzelnen Nutzer-Nachricht (Prompt),\n",
    "# in der um eine einfache Erklärung der Quantenphysik gebeten wird.\n",
    "response = client.chat.completions.create(\n",
    "    model=\"gpt-3.5-turbo\",\n",
    "    messages=[\n",
    "        {\"role\": \"user\", \"content\": \"Erkläre mir Quantenphysik für 12-Jährige.\"}\n",
    "    ]\n",
    ")\n",
    "\n",
    "# 📥 Die Antwort wird im Objekt `response` gespeichert\n",
    "# und kann anschließend weiterverarbeitet oder angezeigt werden.\n",
    "\n",
    "print(response.choices[0].message.content)\n"
   ]
  },
  {
   "cell_type": "markdown",
   "metadata": {},
   "source": [
    "## Groq\n",
    "https://console.groq.com/docs/quickstart\n",
    "\n",
    "goal: llama-3.3-70b-versatile\n"
   ]
  },
  {
   "cell_type": "code",
   "execution_count": 11,
   "metadata": {},
   "outputs": [
    {
     "name": "stdout",
     "output_type": "stream",
     "text": [
      "Hallo 12-jähriger Freund!\n",
      "\n",
      "Quantenphysik ist eine sehr spannende Wissenschaft, die über die winzigsten Teilchen unserer Welt, wie siegen, Elektronen und Photonen, fackelt. Die Quantenphysik hat zum Beispiel genutzt, um sehr schnelle Computerchip und superscharfe Laser zu entwickeln.\n",
      "\n",
      "So, was ist Quantenphysik?\n",
      "-----------------\n",
      "\n",
      "Quantenphysik ist die Wissenschaft, die über die winzigsten Teilchen unserer Welt, die sogenannten Quanten, fackelt. Der Begriff \"Kwant\" kommt von den lateinischen Wörtern \"quantus\", die Menge bedeutet, und \"physik\", die Naturwissenschaften bedeutet.\n",
      "\n",
      "Früher dachte man, dass die Teilchen, die um uns herum sind, wie Kugeln verhält. Doch Quantenphysik zeigte uns, dass das gar nicht stimmt. Die Quanten sind nicht wie Kugeln, sondern wie mysteriöse, unsichtbare Partikel, die wechselnde Eigenschaften haben.\n",
      "\n",
      "Weil es keine Oberfläche gibt, um auf die Quanten einzuwirken, passiert einiges, das wir nicht verstehen können. Das ist Grund, warum die Quantenphysik so wichtig ist. Sie hilft uns zu verstehen, wie die Welt funktioniert und wie wir sie verbessern können.\n",
      "\n",
      "Einige spannende Dinge über Quantenphysik:\n",
      "--------------------------------------\n",
      "\n",
      "1. **Unbestimmtheitssatz**: Die Quanten können nicht festgelegt werden. Wenn wir sie überwachen, werden sie in ein anderes Verhalten wechseln.\n",
      "2. **Superposition**: Die Quanten können in verschiedenen Zuständen gleichzeitig sein. Das bedeutet, dass sie sich in verschiedenen Orten gleichzeitig aufhalten können.\n",
      "3. **Zwischenfall**: Wenn wir die Quanten auf einander einwirken, können sie plötzlich verändert werden.\n",
      "4. **Quanten-Gefühl**: Die Quanten hebben eine Art von \"Fühl\" für die anderen Quanten. Das bedeutet, dass sie miteinander kommunizieren können, ohne dass sie es tun.\n",
      "\n",
      "Warum ist Quantenphysik wichtig?\n",
      "-------------------------------\n",
      "\n",
      "Die Quantenphysik hilft uns, sehr schnelle Computer zu entwickeln, die für die Zukunft wahrscheinlich wichtig sein werden. Sie hilft auch, neue medizinische Technologien zu entwickeln, die Menschenleben retten können. Außerdem kann die Quantenphysik helfen, die Erde zu schützen, indem sie uns helfen, alternative Energiequellen zu finden.\n",
      "\n",
      "Ich hoffe, dass du nun mehr über die Quantenphysik weißt. Es ist eine sehr spannende Wissenschaft, die unsere Welt verbessern kann.\n"
     ]
    }
   ],
   "source": [
    "from groq import Groq\n",
    "import os\n",
    "\n",
    "client = Groq(api_key=os.getenv(\"GROQ_API_KEY\"))\n",
    "\n",
    "response = client.chat.completions.create(\n",
    "    model=\"llama3-8b-8192\",  # aktuelles Modell\n",
    "    messages=[\n",
    "        {\"role\": \"user\", \"content\": \"Erkläre mir Quantenphysik für 12-Jährige.\"}\n",
    "    ]\n",
    ")\n",
    "\n",
    "print(response.choices[0].message.content)\n"
   ]
  },
  {
   "cell_type": "markdown",
   "metadata": {},
   "source": [
    "## Unterschiede festhalten:\n",
    "\n",
    "Inhaltlich: Verständlichkeit, Genauigkeit, Stil\n",
    "\n",
    "Formal: Antwortlänge, Struktur, Tonfall\n",
    "\n",
    "Verhalten: Kreativität, Details, Sprachstil"
   ]
  }
 ],
 "metadata": {
  "kernelspec": {
   "display_name": "Python 3",
   "language": "python",
   "name": "python3"
  },
  "language_info": {
   "codemirror_mode": {
    "name": "ipython",
    "version": 3
   },
   "file_extension": ".py",
   "mimetype": "text/x-python",
   "name": "python",
   "nbconvert_exporter": "python",
   "pygments_lexer": "ipython3",
   "version": "3.12.1"
  }
 },
 "nbformat": 4,
 "nbformat_minor": 2
}
